{
 "cells": [
  {
   "cell_type": "markdown",
   "id": "e87ec775-7668-4144-ba95-3dcdd9669fcd",
   "metadata": {},
   "source": [
    "Name: Vilma Hietala \n",
    "<br>Date: 22/01/2024\n",
    "<br>Prepare training and testing datasets (steps 1-10), make the predictions (step 11)"
   ]
  },
  {
   "cell_type": "code",
   "execution_count": 1,
   "id": "57c1aef0-e1ed-43f1-8400-643576ddcf0c",
   "metadata": {},
   "outputs": [],
   "source": [
    "import pandas as pd\n",
    "import numpy as np\n",
    "import matplotlib.pyplot as plt\n",
    "\n",
    "#settings:\n",
    "pd.set_option('display.max_rows', 1000)\n",
    "pd.set_option('display.max_columns', 900)\n",
    "pd.set_option('display.width', 1000)\n",
    "pd.set_option('display.max_colwidth', 1000)\n",
    "\n",
    "from sklearn.preprocessing import MinMaxScaler\n",
    "from sklearn.model_selection import train_test_split\n",
    "from sklearn import metrics\n",
    "from sklearn.linear_model import LogisticRegression\n",
    "from sklearn.metrics import accuracy_score\n",
    "\n",
    "from sklearn.metrics import f1_score\n",
    "from sklearn.ensemble import VotingClassifier\n",
    "from sklearn.tree import DecisionTreeClassifier\n",
    "from sklearn import svm\n",
    "from sklearn.ensemble import RandomForestClassifier"
   ]
  },
  {
   "cell_type": "code",
   "execution_count": 2,
   "id": "14965ef1-17a0-449d-858f-f8d3b0003661",
   "metadata": {},
   "outputs": [],
   "source": [
    "train_data = pd.read_csv('train.csv')\n",
    "test_data = pd.read_csv('test.csv')"
   ]
  },
  {
   "cell_type": "markdown",
   "id": "2fd34181-daa3-4313-899b-b5a1d7112dad",
   "metadata": {},
   "source": [
    "## 1. Drop unrelevant columns\n",
    "- PassengerId\n",
    "- Cabin information because high amount on NaN values and it's not important information\n",
    "- Ticket"
   ]
  },
  {
   "cell_type": "code",
   "execution_count": 3,
   "id": "1fd6a79c-5cc0-4d7c-8895-5dc87b72c4f8",
   "metadata": {},
   "outputs": [],
   "source": [
    "train_data.drop(['Ticket', 'Cabin', 'PassengerId'], axis=1, inplace=True)\n",
    "test_data.drop(['Ticket', 'Cabin', 'PassengerId'], axis=1, inplace=True)"
   ]
  },
  {
   "cell_type": "markdown",
   "id": "0144a839-dc60-46da-b54c-67181daf7734",
   "metadata": {},
   "source": [
    "## 2. Convert 'Sex' column values into numerical format"
   ]
  },
  {
   "cell_type": "code",
   "execution_count": 4,
   "id": "1c5227b2-b13b-4913-bd36-070b79180755",
   "metadata": {},
   "outputs": [],
   "source": [
    "train_data['Sex'].replace({'male': 0, 'female': 1}, inplace=True)\n",
    "test_data['Sex'].replace({'male': 0, 'female': 1}, inplace=True)"
   ]
  },
  {
   "cell_type": "markdown",
   "id": "d17c8722-6580-46b0-84f0-e6d61df0a174",
   "metadata": {},
   "source": [
    "## 3. Create new column: 'SibSp' + 'Parch' = 'Familysize' and drop original columns"
   ]
  },
  {
   "cell_type": "code",
   "execution_count": 5,
   "id": "b81be675-8c04-4695-be74-d5596c8e142d",
   "metadata": {},
   "outputs": [],
   "source": [
    "train_data['Familysize'] = train_data['SibSp'] + train_data['Parch'] + 1 # the person is the 1\n",
    "test_data['Familysize'] = test_data['SibSp'] + test_data['Parch'] + 1 # the person is the 1"
   ]
  },
  {
   "cell_type": "code",
   "execution_count": 6,
   "id": "db36ea6e-9faf-4a6e-9543-9c34271c93d4",
   "metadata": {},
   "outputs": [],
   "source": [
    "train_data.drop(['SibSp', 'Parch'], axis=1, inplace=True)\n",
    "test_data.drop(['SibSp', 'Parch'], axis=1, inplace=True)"
   ]
  },
  {
   "cell_type": "markdown",
   "id": "0906d7d5-7584-4765-ac23-fdae56321ccb",
   "metadata": {},
   "source": [
    "## 4. Replace 2 NaN values in train_data column 'Embarked'\n",
    "I identified the NaN values in the file \"explore_training_data.ipynb\""
   ]
  },
  {
   "cell_type": "code",
   "execution_count": 7,
   "id": "d4bddbb5-e0fe-4f4c-a54c-ef70d58ba71e",
   "metadata": {},
   "outputs": [],
   "source": [
    "first_class_females = train_data.loc[(train_data[\"Pclass\"]==1) & (train_data[\"Sex\"]==1)]\n",
    "mode_value = first_class_females['Embarked'].mode()[0]\n",
    "train_data['Embarked'].fillna(mode_value, inplace=True)"
   ]
  },
  {
   "cell_type": "markdown",
   "id": "bc7f92e8-3f06-429c-811d-c73761891a8d",
   "metadata": {},
   "source": [
    "## 5. Use get_dummies in column 'Embarked'"
   ]
  },
  {
   "cell_type": "code",
   "execution_count": 8,
   "id": "0169ba4a-a3b2-4255-938d-917726cb8209",
   "metadata": {},
   "outputs": [],
   "source": [
    "train_data = pd.get_dummies(train_data, columns=['Embarked'], prefix_sep=\"_\", prefix=\"Embarked\")\n",
    "test_data = pd.get_dummies(test_data, columns=['Embarked'], prefix_sep=\"_\", prefix=\"Embarked\")"
   ]
  },
  {
   "cell_type": "markdown",
   "id": "8c659758-c7d1-4b77-992d-788588b539ff",
   "metadata": {},
   "source": [
    "## 6. 'Name' column - take relevant information, change into numerical format in new column & drop the old column"
   ]
  },
  {
   "cell_type": "code",
   "execution_count": 9,
   "id": "2163dafb-ae57-4ba5-aa4b-383c302f61ff",
   "metadata": {},
   "outputs": [],
   "source": [
    "train_data['Title'] = train_data.Name.str.extract(\"([A-Za-z]+)\\.\")\n",
    "test_data['Title'] = test_data.Name.str.extract(\"([A-Za-z]+)\\.\")"
   ]
  },
  {
   "cell_type": "code",
   "execution_count": 10,
   "id": "86741dd2-4ad9-4e93-bdbb-93f61b41bc3b",
   "metadata": {},
   "outputs": [
    {
     "data": {
      "text/plain": [
       "Mr          517\n",
       "Miss        182\n",
       "Mrs         125\n",
       "Master       40\n",
       "Dr            7\n",
       "Rev           6\n",
       "Mlle          2\n",
       "Major         2\n",
       "Col           2\n",
       "Countess      1\n",
       "Capt          1\n",
       "Ms            1\n",
       "Sir           1\n",
       "Lady          1\n",
       "Mme           1\n",
       "Don           1\n",
       "Jonkheer      1\n",
       "Name: Title, dtype: int64"
      ]
     },
     "execution_count": 10,
     "metadata": {},
     "output_type": "execute_result"
    }
   ],
   "source": [
    "train_data['Title'].value_counts()"
   ]
  },
  {
   "cell_type": "code",
   "execution_count": 11,
   "id": "50ec447e-183b-4e37-8196-5b2860d8a1c6",
   "metadata": {},
   "outputs": [],
   "source": [
    "train_data.replace(['Capt', 'Col', 'Countess', 'Don', 'Dr', 'Jonkheer', 'Lady', 'Major', 'Rev', 'Sir', 'Dona'], 1, inplace=True)\n",
    "train_data.replace(['Mlle', 'Ms', 'Miss'], 2, inplace = True)\n",
    "train_data.replace([\"Mme\", \"Mrs\"], 3, inplace=True)  \n",
    "train_data.replace(\"Master\", 4, inplace=True)  \n",
    "train_data.replace(\"Mr\", 5, inplace=True)  \n",
    "\n",
    "test_data.replace(['Capt', 'Col', 'Countess', 'Don', 'Dr', 'Jonkheer', 'Lady', 'Major', 'Rev', 'Sir', 'Dona'], 1, inplace=True)\n",
    "test_data.replace(['Mlle', 'Ms', 'Miss'], 2, inplace = True)\n",
    "test_data.replace([\"Mme\", \"Mrs\"], 3, inplace=True)  \n",
    "test_data.replace(\"Master\", 4, inplace=True)\n",
    "test_data.replace(\"Mr\", 5, inplace=True)  "
   ]
  },
  {
   "cell_type": "markdown",
   "id": "cc7f4c9c-43ce-4a25-8d51-be7442199db5",
   "metadata": {},
   "source": [
    "- 1 includes various titles such as military ranks, family titles, religious titles\n",
    "- 2 includes unmarried women\n",
    "- 3 includes married women\n",
    "- 4 includes the title 'Master,' which historically was used to address boys or young male children\n",
    "- 5 includes general title for adult males\n"
   ]
  },
  {
   "cell_type": "code",
   "execution_count": 12,
   "id": "cc14057c-fb47-437d-a1ff-902925e02ae8",
   "metadata": {},
   "outputs": [],
   "source": [
    "train_data.drop(['Name'], axis=1, inplace=True)\n",
    "test_data.drop(['Name'], axis=1, inplace=True)"
   ]
  },
  {
   "cell_type": "markdown",
   "id": "b3204670-0063-4b71-8578-378c8d93b33f",
   "metadata": {},
   "source": [
    "## 7. Handle NaN values in column \"Age\""
   ]
  },
  {
   "cell_type": "code",
   "execution_count": 13,
   "id": "9ea6a42d-0713-4a36-88e7-452c397ca0b2",
   "metadata": {},
   "outputs": [
    {
     "data": {
      "text/plain": [
       "Title  Pclass\n",
       "1      1         47.571429\n",
       "       2         42.000000\n",
       "2      1         29.744681\n",
       "       2         22.560606\n",
       "       3         16.123188\n",
       "3      1         40.400000\n",
       "       2         33.682927\n",
       "       3         33.515152\n",
       "4      1          5.306667\n",
       "       2          2.258889\n",
       "       3          5.350833\n",
       "5      1         41.580460\n",
       "       2         32.768293\n",
       "       3         28.724891\n",
       "Name: Age, dtype: float64"
      ]
     },
     "execution_count": 13,
     "metadata": {},
     "output_type": "execute_result"
    }
   ],
   "source": [
    "train_data.groupby(['Title', 'Pclass'])['Age'].mean()"
   ]
  },
  {
   "cell_type": "code",
   "execution_count": 14,
   "id": "22e477ea-57f2-40b2-a6b1-cad54988a3c4",
   "metadata": {},
   "outputs": [],
   "source": [
    "train_data['Age'] = train_data['Age'].fillna(train_data.groupby(['Title', 'Pclass'])['Age'].transform('mean'))"
   ]
  },
  {
   "cell_type": "code",
   "execution_count": 15,
   "id": "fa97af4a-dc24-4db4-9cc6-6c306c5e2f14",
   "metadata": {},
   "outputs": [],
   "source": [
    "test_data['Age'] = test_data['Age'].fillna(test_data.groupby(['Title', 'Pclass'])['Age'].transform('mean'))"
   ]
  },
  {
   "cell_type": "markdown",
   "id": "02bd9c32-0b8f-4a61-aa1f-e1e1cc9a97f6",
   "metadata": {},
   "source": [
    "## 8. Handle outliers in column \"Fare\""
   ]
  },
  {
   "cell_type": "code",
   "execution_count": 16,
   "id": "0a5ba756-9806-401b-945b-37e69b6f821c",
   "metadata": {},
   "outputs": [
    {
     "data": {
      "text/plain": [
       "512.3292"
      ]
     },
     "execution_count": 16,
     "metadata": {},
     "output_type": "execute_result"
    }
   ],
   "source": [
    "train_data[\"Fare\"].max()"
   ]
  },
  {
   "cell_type": "code",
   "execution_count": 17,
   "id": "a92847af-6e7d-4421-a6de-e5e8c1f2090d",
   "metadata": {},
   "outputs": [
    {
     "data": {
      "text/plain": [
       "512.3292"
      ]
     },
     "execution_count": 17,
     "metadata": {},
     "output_type": "execute_result"
    }
   ],
   "source": [
    "test_data[\"Fare\"].max()"
   ]
  },
  {
   "cell_type": "code",
   "execution_count": 18,
   "id": "853ca99a-4b7e-4d4b-ac77-357b2ec1d10b",
   "metadata": {},
   "outputs": [
    {
     "data": {
      "image/png": "[encoded data removed]",
      "text/plain": [
       "<Figure size 600x400 with 2 Axes>"
      ]
     },
     "metadata": {},
     "output_type": "display_data"
    }
   ],
   "source": [
    "Fare = train_data.plot.scatter(x='Fare',\n",
    "                        y= 'Survived',\n",
    "                        title = ('The money paid for the ticket VS Survival'),\n",
    "                        c=train_data['Fare'],\n",
    "                        cmap='cool',\n",
    "                        figsize=(6,4))"
   ]
  },
  {
   "cell_type": "code",
   "execution_count": 19,
   "id": "48f572d5-e84f-469a-9137-6747bf94c450",
   "metadata": {},
   "outputs": [],
   "source": [
    "under_300 = train_data.loc[train_data[\"Fare\"] >= 300, \"Fare\"] = 300\n",
    "under_300_2 = test_data.loc[test_data[\"Fare\"] >= 300, \"Fare\"] = 300"
   ]
  },
  {
   "cell_type": "code",
   "execution_count": 20,
   "id": "272b5804-0729-4132-a4a5-16095714ebf5",
   "metadata": {},
   "outputs": [
    {
     "data": {
      "image/png": "[encoded data removed]",
      "text/plain": [
       "<Figure size 600x400 with 2 Axes>"
      ]
     },
     "metadata": {},
     "output_type": "display_data"
    }
   ],
   "source": [
    "Fare = train_data.plot.scatter(x='Fare',\n",
    "                        y= 'Survived',\n",
    "                        title = ('The money paid for the ticket VS Survival'),\n",
    "                        c=train_data['Fare'],\n",
    "                        cmap='cool',\n",
    "                        figsize=(6,4))"
   ]
  },
  {
   "cell_type": "code",
   "execution_count": 21,
   "id": "1a5dfad3-7756-4875-82d3-982dbf1331f7",
   "metadata": {},
   "outputs": [
    {
     "data": {
      "text/plain": [
       "300.0"
      ]
     },
     "execution_count": 21,
     "metadata": {},
     "output_type": "execute_result"
    }
   ],
   "source": [
    "train_data[\"Fare\"].max()"
   ]
  },
  {
   "cell_type": "code",
   "execution_count": 22,
   "id": "df3688d2-ebc1-43a4-b70f-ba8d2920d9ee",
   "metadata": {},
   "outputs": [
    {
     "data": {
      "text/plain": [
       "300.0"
      ]
     },
     "execution_count": 22,
     "metadata": {},
     "output_type": "execute_result"
    }
   ],
   "source": [
    "test_data[\"Fare\"].max()"
   ]
  },
  {
   "cell_type": "markdown",
   "id": "b4b837f0-098a-445f-b039-2fc27874edf6",
   "metadata": {},
   "source": [
    "## 9. Fill NaN value in test_data 'Fare' column"
   ]
  },
  {
   "cell_type": "code",
   "execution_count": 23,
   "id": "49bbb964-7170-4ba4-9365-b958c40c1c16",
   "metadata": {},
   "outputs": [
    {
     "data": {
      "text/plain": [
       "Survived      0\n",
       "Pclass        0\n",
       "Sex           0\n",
       "Age           0\n",
       "Fare          0\n",
       "Familysize    0\n",
       "Embarked_C    0\n",
       "Embarked_Q    0\n",
       "Embarked_S    0\n",
       "Title         0\n",
       "dtype: int64"
      ]
     },
     "execution_count": 23,
     "metadata": {},
     "output_type": "execute_result"
    }
   ],
   "source": [
    "train_data.isna().sum()"
   ]
  },
  {
   "cell_type": "code",
   "execution_count": 24,
   "id": "9222bb93-4e85-44c6-bab8-ff2015191bb6",
   "metadata": {},
   "outputs": [
    {
     "data": {
      "text/plain": [
       "Pclass        0\n",
       "Sex           0\n",
       "Age           0\n",
       "Fare          1\n",
       "Familysize    0\n",
       "Embarked_C    0\n",
       "Embarked_Q    0\n",
       "Embarked_S    0\n",
       "Title         0\n",
       "dtype: int64"
      ]
     },
     "execution_count": 24,
     "metadata": {},
     "output_type": "execute_result"
    }
   ],
   "source": [
    "test_data.isna().sum()"
   ]
  },
  {
   "cell_type": "code",
   "execution_count": 25,
   "id": "98921469-8ec2-41fe-94ef-94c4dc0878ac",
   "metadata": {},
   "outputs": [],
   "source": [
    "test_data['Fare'].fillna(test_data['Fare'].mean(), inplace=True)"
   ]
  },
  {
   "cell_type": "markdown",
   "id": "069cdac3-9e26-48fa-9757-e9a6356a738d",
   "metadata": {},
   "source": [
    "## 10. Scale the data"
   ]
  },
  {
   "cell_type": "code",
   "execution_count": 26,
   "id": "2a06f356-d974-4413-951d-109f220376a4",
   "metadata": {},
   "outputs": [],
   "source": [
    "scaler_train = MinMaxScaler()\n",
    "scaler_test = MinMaxScaler()\n",
    "\n",
    "scaler_train.fit(train_data.values)\n",
    "scaler_test.fit(test_data.values)\n",
    "\n",
    "train_scaled = pd.DataFrame(scaler_train.transform(train_data.values), columns=train_data.columns)\n",
    "test_scaled = pd.DataFrame(scaler_test.transform(test_data.values), columns=test_data.columns)"
   ]
  },
  {
   "cell_type": "code",
   "execution_count": 27,
   "id": "1df9c183-1e27-4655-ae03-b63c5c2483a8",
   "metadata": {},
   "outputs": [
    {
     "data": {
      "text/html": [
       "<div>\n",
       "<style scoped>\n",
       "    .dataframe tbody tr th:only-of-type {\n",
       "        vertical-align: middle;\n",
       "    }\n",
       "\n",
       "    .dataframe tbody tr th {\n",
       "        vertical-align: top;\n",
       "    }\n",
       "\n",
       "    .dataframe thead th {\n",
       "        text-align: right;\n",
       "    }\n",
       "</style>\n",
       "<table border=\"1\" class=\"dataframe\">\n",
       "  <thead>\n",
       "    <tr style=\"text-align: right;\">\n",
       "      <th></th>\n",
       "      <th>Survived</th>\n",
       "      <th>Pclass</th>\n",
       "      <th>Sex</th>\n",
       "      <th>Age</th>\n",
       "      <th>Fare</th>\n",
       "      <th>Familysize</th>\n",
       "      <th>Embarked_C</th>\n",
       "      <th>Embarked_Q</th>\n",
       "      <th>Embarked_S</th>\n",
       "      <th>Title</th>\n",
       "    </tr>\n",
       "  </thead>\n",
       "  <tbody>\n",
       "    <tr>\n",
       "      <th>0</th>\n",
       "      <td>0.0</td>\n",
       "      <td>1.0</td>\n",
       "      <td>0.0</td>\n",
       "      <td>0.271174</td>\n",
       "      <td>0.024167</td>\n",
       "      <td>0.1</td>\n",
       "      <td>0.0</td>\n",
       "      <td>0.0</td>\n",
       "      <td>1.0</td>\n",
       "      <td>1.00</td>\n",
       "    </tr>\n",
       "    <tr>\n",
       "      <th>1</th>\n",
       "      <td>1.0</td>\n",
       "      <td>0.0</td>\n",
       "      <td>1.0</td>\n",
       "      <td>0.472229</td>\n",
       "      <td>0.237611</td>\n",
       "      <td>0.1</td>\n",
       "      <td>1.0</td>\n",
       "      <td>0.0</td>\n",
       "      <td>0.0</td>\n",
       "      <td>0.50</td>\n",
       "    </tr>\n",
       "    <tr>\n",
       "      <th>2</th>\n",
       "      <td>1.0</td>\n",
       "      <td>1.0</td>\n",
       "      <td>1.0</td>\n",
       "      <td>0.321438</td>\n",
       "      <td>0.026417</td>\n",
       "      <td>0.0</td>\n",
       "      <td>0.0</td>\n",
       "      <td>0.0</td>\n",
       "      <td>1.0</td>\n",
       "      <td>0.25</td>\n",
       "    </tr>\n",
       "    <tr>\n",
       "      <th>3</th>\n",
       "      <td>1.0</td>\n",
       "      <td>0.0</td>\n",
       "      <td>1.0</td>\n",
       "      <td>0.434531</td>\n",
       "      <td>0.177000</td>\n",
       "      <td>0.1</td>\n",
       "      <td>0.0</td>\n",
       "      <td>0.0</td>\n",
       "      <td>1.0</td>\n",
       "      <td>0.50</td>\n",
       "    </tr>\n",
       "    <tr>\n",
       "      <th>4</th>\n",
       "      <td>0.0</td>\n",
       "      <td>1.0</td>\n",
       "      <td>0.0</td>\n",
       "      <td>0.434531</td>\n",
       "      <td>0.026833</td>\n",
       "      <td>0.0</td>\n",
       "      <td>0.0</td>\n",
       "      <td>0.0</td>\n",
       "      <td>1.0</td>\n",
       "      <td>1.00</td>\n",
       "    </tr>\n",
       "  </tbody>\n",
       "</table>\n",
       "</div>"
      ],
      "text/plain": [
       "   Survived  Pclass  Sex       Age      Fare  Familysize  Embarked_C  Embarked_Q  Embarked_S  Title\n",
       "0       0.0     1.0  0.0  0.271174  0.024167         0.1         0.0         0.0         1.0   1.00\n",
       "1       1.0     0.0  1.0  0.472229  0.237611         0.1         1.0         0.0         0.0   0.50\n",
       "2       1.0     1.0  1.0  0.321438  0.026417         0.0         0.0         0.0         1.0   0.25\n",
       "3       1.0     0.0  1.0  0.434531  0.177000         0.1         0.0         0.0         1.0   0.50\n",
       "4       0.0     1.0  0.0  0.434531  0.026833         0.0         0.0         0.0         1.0   1.00"
      ]
     },
     "execution_count": 27,
     "metadata": {},
     "output_type": "execute_result"
    }
   ],
   "source": [
    "train_scaled.head()"
   ]
  },
  {
   "cell_type": "code",
   "execution_count": 28,
   "id": "190d6aa3-8558-4c71-8999-1ac15acca77e",
   "metadata": {},
   "outputs": [
    {
     "data": {
      "text/plain": [
       "0.0    537\n",
       "0.1    161\n",
       "0.2    102\n",
       "0.3     29\n",
       "0.5     22\n",
       "0.4     15\n",
       "0.6     12\n",
       "1.0      7\n",
       "0.7      6\n",
       "Name: Familysize, dtype: int64"
      ]
     },
     "execution_count": 28,
     "metadata": {},
     "output_type": "execute_result"
    }
   ],
   "source": [
    "train_scaled.Familysize.value_counts()"
   ]
  },
  {
   "cell_type": "code",
   "execution_count": 29,
   "id": "f67f1d11-077e-4d1e-8960-a24c9c4310c9",
   "metadata": {},
   "outputs": [
    {
     "data": {
      "text/plain": [
       "1.00    517\n",
       "0.25    185\n",
       "0.50    126\n",
       "0.75     40\n",
       "0.00     23\n",
       "Name: Title, dtype: int64"
      ]
     },
     "execution_count": 29,
     "metadata": {},
     "output_type": "execute_result"
    }
   ],
   "source": [
    "train_scaled.Title.value_counts()"
   ]
  },
  {
   "cell_type": "markdown",
   "id": "ab5f2e70-9321-42b9-82d6-abd7ea5bea38",
   "metadata": {},
   "source": [
    "## 11. Predict"
   ]
  },
  {
   "cell_type": "code",
   "execution_count": 30,
   "id": "0365a6e3-ec63-4483-9d7c-d01568f8b394",
   "metadata": {},
   "outputs": [],
   "source": [
    "X = train_scaled.drop('Survived', axis=1)\n",
    "y = train_scaled['Survived']\n",
    "\n",
    "X_train, X_test, y_train, y_test = train_test_split(X, y, test_size=0.3)"
   ]
  },
  {
   "cell_type": "code",
   "execution_count": 31,
   "id": "895f140d-7614-4616-80cd-6ccec968ae61",
   "metadata": {},
   "outputs": [
    {
     "data": {
      "text/plain": [
       "0.8432835820895522"
      ]
     },
     "execution_count": 31,
     "metadata": {},
     "output_type": "execute_result"
    }
   ],
   "source": [
    "LogisticRegression_model = LogisticRegression(max_iter=1000)\n",
    "LogisticRegression_model.fit(X_train, y_train)\n",
    "LogisticRegression_pred = LogisticRegression_model.predict(X_test)\n",
    "LogisticRegression_acc = metrics.accuracy_score(y_test,LogisticRegression_pred)\n",
    "LogisticRegression_acc"
   ]
  },
  {
   "cell_type": "code",
   "execution_count": 32,
   "id": "4b6ea628-2511-4a82-91cb-f1d51f2d16f5",
   "metadata": {},
   "outputs": [
    {
     "data": {
      "text/plain": [
       "0.8582089552238806"
      ]
     },
     "execution_count": 32,
     "metadata": {},
     "output_type": "execute_result"
    }
   ],
   "source": [
    "DecisionTreeClassifier_model = DecisionTreeClassifier(max_depth=4)\n",
    "DecisionTreeClassifier_model.fit(X_train, y_train)\n",
    "DecisionTreeClassifier_pred = DecisionTreeClassifier_model.predict(X_test)\n",
    "DecisionTreeClassifier_acc = metrics.accuracy_score(y_test,DecisionTreeClassifier_pred)\n",
    "DecisionTreeClassifier_acc"
   ]
  },
  {
   "cell_type": "code",
   "execution_count": 33,
   "id": "9373b7f0-6059-4aa4-a4ed-dc6ad91864a8",
   "metadata": {},
   "outputs": [
    {
     "data": {
      "text/plain": [
       "0.8134328358208955"
      ]
     },
     "execution_count": 33,
     "metadata": {},
     "output_type": "execute_result"
    }
   ],
   "source": [
    "random_forrest = RandomForestClassifier(n_estimators=100)\n",
    "random_forrest.fit(X_train, y_train)\n",
    "random_forrest_pred = random_forrest.predict(X_test)\n",
    "random_forrest_acc = metrics.accuracy_score(y_test,random_forrest_pred)\n",
    "random_forrest_acc"
   ]
  },
  {
   "cell_type": "code",
   "execution_count": 34,
   "id": "3314385e-ee89-4ea3-a80d-57ec4b2a4243",
   "metadata": {},
   "outputs": [],
   "source": [
    "voting_classifier_hard = VotingClassifier(\n",
    "    estimators = [('Model1', DecisionTreeClassifier(max_depth=4)),\n",
    "                  ('Model2', LogisticRegression(max_iter=1000)),\n",
    "                  ('Model3', RandomForestClassifier(n_estimators=100))],\n",
    "    voting=\"hard\")\n",
    "\n",
    "\n",
    "voting_classifier_soft = VotingClassifier(\n",
    "    estimators = [('Model1', DecisionTreeClassifier(max_depth=4)),\n",
    "                  ('Model2', LogisticRegression(max_iter=1000)),\n",
    "                  ('Model3', RandomForestClassifier(n_estimators=100))],\n",
    "    voting=\"soft\")\n",
    "\n",
    "voting_classifier_hard.fit(X_train, y_train)\n",
    "pred_hard = voting_classifier_hard.predict(test_scaled)\n",
    "\n",
    "voting_classifier_soft.fit(X_train, y_train)\n",
    "pred_soft = voting_classifier_soft.predict(test_scaled)"
   ]
  },
  {
   "cell_type": "code",
   "execution_count": null,
   "id": "4615d0d2-7397-4d69-80ba-14a78c852da3",
   "metadata": {},
   "outputs": [],
   "source": []
  },
  {
   "cell_type": "code",
   "execution_count": 35,
   "id": "1ac6c2ee-012b-44c6-810c-1166e5df8a50",
   "metadata": {},
   "outputs": [],
   "source": [
    "data_passengerid = pd.read_csv('test.csv')\n",
    "my_submission = pd.DataFrame({\"PassengerId\": data_passengerid.PassengerId, \"Survived\": pred_hard})\n",
    "my_submission['Survived'] = my_submission['Survived'].astype(int)"
   ]
  },
  {
   "cell_type": "code",
   "execution_count": 36,
   "id": "7ac9f291-633d-4457-94ae-5beebb020103",
   "metadata": {},
   "outputs": [
    {
     "data": {
      "text/html": [
       "<div>\n",
       "<style scoped>\n",
       "    .dataframe tbody tr th:only-of-type {\n",
       "        vertical-align: middle;\n",
       "    }\n",
       "\n",
       "    .dataframe tbody tr th {\n",
       "        vertical-align: top;\n",
       "    }\n",
       "\n",
       "    .dataframe thead th {\n",
       "        text-align: right;\n",
       "    }\n",
       "</style>\n",
       "<table border=\"1\" class=\"dataframe\">\n",
       "  <thead>\n",
       "    <tr style=\"text-align: right;\">\n",
       "      <th></th>\n",
       "      <th>PassengerId</th>\n",
       "      <th>Survived</th>\n",
       "    </tr>\n",
       "  </thead>\n",
       "  <tbody>\n",
       "    <tr>\n",
       "      <th>0</th>\n",
       "      <td>892</td>\n",
       "      <td>0</td>\n",
       "    </tr>\n",
       "    <tr>\n",
       "      <th>1</th>\n",
       "      <td>893</td>\n",
       "      <td>1</td>\n",
       "    </tr>\n",
       "    <tr>\n",
       "      <th>2</th>\n",
       "      <td>894</td>\n",
       "      <td>0</td>\n",
       "    </tr>\n",
       "    <tr>\n",
       "      <th>3</th>\n",
       "      <td>895</td>\n",
       "      <td>0</td>\n",
       "    </tr>\n",
       "    <tr>\n",
       "      <th>4</th>\n",
       "      <td>896</td>\n",
       "      <td>1</td>\n",
       "    </tr>\n",
       "  </tbody>\n",
       "</table>\n",
       "</div>"
      ],
      "text/plain": [
       "   PassengerId  Survived\n",
       "0          892         0\n",
       "1          893         1\n",
       "2          894         0\n",
       "3          895         0\n",
       "4          896         1"
      ]
     },
     "execution_count": 36,
     "metadata": {},
     "output_type": "execute_result"
    }
   ],
   "source": [
    "my_submission.head()"
   ]
  },
  {
   "cell_type": "code",
   "execution_count": 37,
   "id": "9c52f294-4a5f-4ac5-a73b-42d6814d61f9",
   "metadata": {},
   "outputs": [],
   "source": [
    "my_submission.to_csv(\"submission.csv\", index=False)"
   ]
  },
  {
   "cell_type": "code",
   "execution_count": null,
   "id": "805e3346-94ef-4ebc-9752-d950627b1db8",
   "metadata": {},
   "outputs": [],
   "source": []
  }
 ],
 "metadata": {
  "kernelspec": {
   "display_name": "Python 3 (ipykernel)",
   "language": "python",
   "name": "python3"
  },
  "language_info": {
   "codemirror_mode": {
    "name": "ipython",
    "version": 3
   },
   "file_extension": ".py",
   "mimetype": "text/x-python",
   "name": "python",
   "nbconvert_exporter": "python",
   "pygments_lexer": "ipython3",
   "version": "3.8.10"
  }
 },
 "nbformat": 4,
 "nbformat_minor": 5
}
